{
  "cells": [
    {
      "cell_type": "markdown",
      "metadata": {
        "id": "xxmTcd0PMWSq"
      },
      "source": [
        "# Computing for Economists: Data Wrangling\n",
        "\n",
        "\n",
        "\n"
      ]
    },
    {
      "cell_type": "markdown",
      "metadata": {
        "id": "4uMDHcycMWSq"
      },
      "source": [
        "In this module, we will have you work through the following datasets to analyze social connectedness in Europe. This module is inspired by [Bailey et al. (2020)](https://pages.stern.nyu.edu/~jstroebe/PDF/BJRKSS_EuroSCI.pdf)."
      ]
    },
    {
      "cell_type": "code",
      "execution_count": null,
      "metadata": {
        "colab": {
          "base_uri": "https://localhost:8080/"
        },
        "id": "diTnxO5eMWSq",
        "outputId": "35d311db-5988-4f8d-c4ee-c6dff03f1d30"
      },
      "outputs": [],
      "source": [
        "### Import Modules\n",
        "import numpy as np\n",
        "import pandas as pd\n",
        "import geopandas as gpd\n",
        "import matplotlib.pyplot as plt\n",
        "import seaborn as sns\n",
        "import itertools"
      ]
    },
    {
      "cell_type": "markdown",
      "metadata": {
        "id": "Rf-sRXqHMWSr"
      },
      "source": [
        "## Tidying the Data\n",
        "\n",
        "1. The `data` folder contains data from the following sources. Read each of the data files into Python as Pandas DataFrames.\n",
        "  - https://ec.europa.eu/eurostat/en/web/products-datasets/-/EDAT_LFSE_04 \n",
        "    - This data contains the percent of population by educational attainment level, sex, and NUTS 2 regions in the European Union.\n",
        "  - https://ec.europa.eu/eurostat/web/products-datasets/-/nama_10r_2hhinc\n",
        "    - The data contains the income of households by NUTS 2 region.  \n",
        "  - https://ec.europa.eu/eurostat/web/products-datasets/product?code=demo_r_pjanaggr3\n",
        "    - Population by age, group, sex, and NUTS 2 region.\n",
        "  - https://ec.europa.eu/eurostat/web/gisco/geodata/reference-data/administrative-units-statistical-units/nuts\n",
        "    - NUTS region shapefiles (use the geopandas library to read it as a GeoDataFrame).\n",
        "  - https://media.githubusercontent.com/media/social-connectedness-index/euro_sci/master/_intermediate_data/geo_distance_dat.csv\n",
        "    - Distance between pairs of NUTS 2 regions constructed by [Bailey et al. (2020)](https://pages.stern.nyu.edu/~jstroebe/PDF/BJRKSS_EuroSCI.pdf).\n",
        "  - `gadm1_nuts2-gadm1_nuts2-fb-social-connectedness-index-october-2021.tsv` from https://data.humdata.org/dataset/social-connectedness-index\n",
        "    - This file contains the social connectedness index between NUTS 2 regions and all Global Administrative Areas (GADM). We will only consider NUTS 2 to NUTS 2 connections. Social connectedness is a snapshot of Facebook links as of July 2019.\n",
        "    - Note: this file is very large so we recommend reading the file directly into the notebook at the following link: https://data.humdata.org/dataset/e9988552-74e4-4ff4-943f-c782ac8bca87/resource/5de92e01-606e-4e4d-ad7c-4a3d493a0cc3/download/gadm1_nuts2-gadm1_nuts2-fb-social-connectedness-index-october-2021.tsv\n"
      ]
    },
    {
      "cell_type": "code",
      "execution_count": null,
      "metadata": {
        "colab": {
          "base_uri": "https://localhost:8080/",
          "height": 400
        },
        "id": "9HYlkboyMWSr",
        "outputId": "b4974597-71b2-4f90-ebfd-62b4488260e3"
      },
      "outputs": [],
      "source": [
        "edu_data = pd.read_csv(\"data/estat_edat_lfse_04.tsv\", sep='\\t')\n",
        "\n",
        "inc_data = pd.read_csv(\"data/estat_nama_10r_2hhinc.tsv\", sep='\\t')\n",
        "\n",
        "pop_data = pd.read_csv(\"data/estat_demo_r_pjanaggr3.tsv\", sep='\\t')\n",
        "\n",
        "shapefile = gpd.read_file(\"data/NUTS_RG_20M_2021_3035.shp\")\n",
        "\n",
        "dist_data = pd.read_csv(\"data/geo_distance_dat.csv\")\n",
        "\n",
        "sci_url = \"https://data.humdata.org/dataset/e9988552-74e4-4ff4-943f-c782ac8bca87/resource/5de92e01-606e-4e4d-ad7c-4a3d493a0cc3/download/gadm1_nuts2-gadm1_nuts2-fb-social-connectedness-index-october-2021.tsv\"\n",
        "sci = pd.read_csv(sci_url, sep='\\t')"
      ]
    },
    {
      "cell_type": "markdown",
      "metadata": {
        "id": "O76Qx6NQMWSr"
      },
      "source": [
        "\n",
        "2. Clean the education data (`estat_edat_lfse_04.tsv`) and put it into \"tidy\" format. Check that there is a unique non-missing key for each row. The resulting data should have five columns and 299,088 rows."
      ]
    },
    {
      "cell_type": "code",
      "execution_count": null,
      "metadata": {
        "colab": {
          "base_uri": "https://localhost:8080/"
        },
        "id": "jO-1xH2tMWSr",
        "outputId": "43dafc4c-ab26-4ee7-e14a-2ad44d1d7922"
      },
      "outputs": [],
      "source": []
    },
    {
      "cell_type": "markdown",
      "metadata": {
        "id": "GmUibPXdMWSs"
      },
      "source": [
        "Below we do the same for the income data (`estat_nama_10r_2hhinc.tsv`) and the population data (`estat_demo_r_pjanaggr3.tsv`)."
      ]
    },
    {
      "cell_type": "code",
      "execution_count": null,
      "metadata": {
        "colab": {
          "base_uri": "https://localhost:8080/"
        },
        "id": "LgHhM_wYMWSs",
        "outputId": "b41deead-015c-4bf5-a00f-96bc35372dd1"
      },
      "outputs": [],
      "source": [
        "inc_data[['freq', 'unit', 'direct', 'na_item', 'geo']] = inc_data['freq,unit,direct,na_item,geo\\TIME_PERIOD'].str.split(',', expand=True)\n",
        "\n",
        "inc_data = (\n",
        "    inc_data\n",
        "    .drop(columns=[\"freq\", \"freq,unit,direct,na_item,geo\\TIME_PERIOD\"])\n",
        "    .melt(id_vars=['unit', 'direct', 'na_item', 'geo'], value_name=\"value\", var_name=\"year\")\n",
        "    .assign(\n",
        "        value = lambda x: pd.to_numeric(x[\"value\"], errors=\"coerce\"),\n",
        "        year = lambda x: x[\"year\"].astype(int)\n",
        "    )\n",
        ")\n",
        "\n",
        "pop_data[['freq', 'unit', 'sex', 'age', 'geo']] = pop_data['freq,unit,sex,age,geo\\TIME_PERIOD'].str.split(',', expand=True)\n",
        "\n",
        "pop_data = (\n",
        "    pop_data\n",
        "    .drop(columns=[\"freq\", \"freq,unit,sex,age,geo\\TIME_PERIOD\"])\n",
        "    .melt(id_vars=['unit', 'sex', 'age', 'geo'], value_name=\"pop\", var_name=\"year\")\n",
        "    .assign(\n",
        "        pop = lambda x: pd.to_numeric(x[\"pop\"], errors=\"coerce\"),\n",
        "        year = lambda x: x[\"year\"].astype(int)\n",
        "    )\n",
        ")"
      ]
    },
    {
      "cell_type": "markdown",
      "metadata": {
        "id": "n8Tqm4m1MWSs"
      },
      "source": [
        "3. Inner join the percent of the population age 25 to 64 in a NUTS 2 region receiving a tertiary education with the income per capita in purchasing power standard (PPS). Then inner join the education and income data with population data for the total population (for sex and age). Only include data at the NUTS 2 level.\n",
        "\n",
        "  To obtain the income per capita in PPS, the national account should be the \"balance of primary incomes/national income, net\" and the direction of flow should be the \"balance\"."
      ]
    },
    {
      "cell_type": "code",
      "execution_count": null,
      "metadata": {},
      "outputs": [],
      "source": [
        "edu_data = (\n",
        "    edu_data\n",
        "    .query(\"age == 'Y25-64'\")\n",
        "    .query(\"isced11 == 'ED5-8'\")\n",
        "    .drop(columns=[\"age\", \"isced11\"])\n",
        "    .rename(columns={\"pct\": \"pct_tertiary_edu\"})\n",
        ")\n",
        "\n",
        "inc_data = (\n",
        "    inc_data\n",
        "    .query(\"unit == 'PPS_EU27_2020_HAB'\")\n",
        "    .query(\"na_item == 'B5N'\")\n",
        "    .query(\"direct == 'BAL'\")\n",
        "    .drop(columns=[\"unit\", \"na_item\", \"direct\"])\n",
        "    .rename(columns={\"value\": \"inc_per_capita\"})\n",
        ")\n",
        "\n",
        "pop_data = (\n",
        "    pop_data\n",
        "    .query(\"age == 'TOTAL'\")\n",
        "    .query(\"sex == 'T'\")\n",
        "    .drop(columns=[\"unit\", \"sex\", \"age\"])\n",
        "    .rename(columns={\"pop\": \"population\"})\n",
        ")\n",
        "\n",
        "# join datasets\n",
        "\n",
        "# remove non-NUTS 2 level rows"
      ]
    },
    {
      "cell_type": "markdown",
      "metadata": {
        "id": "uEvKBzrEMWSs"
      },
      "source": [
        "4. For each pair of NUTS 2 regions, obtain the absolute difference in the two variables constructed in problem 3 in 2019. Drop the French islands (starts with NUTS 2 region code \"FRY\").\n"
      ]
    },
    {
      "cell_type": "code",
      "execution_count": null,
      "metadata": {
        "colab": {
          "base_uri": "https://localhost:8080/",
          "height": 206
        },
        "id": "U-YNM89sMWSs",
        "outputId": "69c6dabc-09a7-48e1-b2c6-2a2f0aa2a672"
      },
      "outputs": [],
      "source": []
    },
    {
      "cell_type": "markdown",
      "metadata": {
        "id": "1Wli7tn0MWSs"
      },
      "source": [
        "5. Now we will merge the the 2019 data with the SCI data and the pairwise distance data. Create a dataframe with one row for each pair of NUTS 2 regions (as two separate columns) and the following variables:\n",
        "\n",
        "*   Log scaled SCI\n",
        "*   Log distance (add 1 to avoid zeros)\n",
        "*   Percent tertiary education for User and Friend NUTS 2\n",
        "*   Income per capita for User and Friend NUTS 2\n",
        "*   Population for User and Friend NUTS 2\n",
        "*   Absolute difference in tertiary education between User and Friend NUTS 2\n",
        "*   Absolute difference in income per capita between User and Friend NUTS 2\n",
        "\n",
        "  Note that the SCI data contains GADM areas, please only keep the NUTS 2 to NUTS 2 rows. Keeps all rows in the SCI data.\n"
      ]
    },
    {
      "cell_type": "code",
      "execution_count": null,
      "metadata": {},
      "outputs": [],
      "source": []
    },
    {
      "cell_type": "markdown",
      "metadata": {
        "id": "NKWIuCArMWSt"
      },
      "source": [
        "## Descriptive Statistics"
      ]
    },
    {
      "cell_type": "markdown",
      "metadata": {
        "id": "aNhlzFLSMWSu"
      },
      "source": [
        "\n",
        "1.   Each country is represented by the first two letters of the NUTS 2 index. Present a country-level population-weighted summary table for the percent people with tertiary education and income per capita in 2019. Include the mean, standard deviation, min, and max. Round all numeric outputs to two decimal places. We have provided you with the functions to compute weighted means and standard deviations."
      ]
    },
    {
      "cell_type": "code",
      "execution_count": 1,
      "metadata": {
        "colab": {
          "base_uri": "https://localhost:8080/",
          "height": 269
        },
        "id": "CTek628Fyll0",
        "outputId": "f90276e6-f694-4def-a50b-b47e862a8f20"
      },
      "outputs": [],
      "source": [
        "# Define custom aggregation functions for weighted mean and weighted std\n",
        "def weighted_mean(x, weights):\n",
        "    mask = ~np.isnan(x) & ~np.isnan(weights)  # Filter out NaNs\n",
        "    x, weights = x[mask], weights[mask]\n",
        "    denom = np.sum(weights)\n",
        "    if np.sum(weights) == 0:\n",
        "        return np.NaN\n",
        "    else:\n",
        "        return np.sum(x * weights) / np.sum(weights)\n",
        "\n",
        "def weighted_std(x, weights):\n",
        "    mask = ~np.isnan(x) & ~np.isnan(weights)  # Filter out NaNs\n",
        "    x, weights = x[mask], weights[mask]\n",
        "    n = len(x)\n",
        "    if n == 0:\n",
        "      return np.NaN\n",
        "    else:\n",
        "      mean = weighted_mean(x, weights)\n",
        "      numerator = np.sum(weights * (x - mean)**2)\n",
        "      denominator = (n - 1) / n * np.sum(weights)\n",
        "      return np.sqrt(numerator / denominator)\n",
        "    \n",
        "# your code "
      ]
    },
    {
      "cell_type": "markdown",
      "metadata": {
        "id": "ovRerAJj50Vn"
      },
      "source": [
        "2. The SCI is scaled from 1 to 1,000,000 and measures the relative probability of a Facebook friendship link ([source](https://data.humdata.org/dataset/social-connectedness-index?)). If a number is two times higher, then a friendship link between two users from those NUTS 2 regions is twice as likely. Calculate  the mean, std, min, and max of log(scaled SCI) by country and merge it with the summary table from the previous part."
      ]
    },
    {
      "cell_type": "code",
      "execution_count": null,
      "metadata": {
        "colab": {
          "base_uri": "https://localhost:8080/",
          "height": 269
        },
        "id": "siMC7xs521kC",
        "outputId": "77aab399-f091-405c-fcfd-9cf3cc34e0dc"
      },
      "outputs": [],
      "source": []
    },
    {
      "cell_type": "markdown",
      "metadata": {
        "id": "jRZp8vI2yzYQ"
      },
      "source": [
        "3. Compute the (unweighted) correlation between log(scaled SCI), log(distance), user region education and income, as well as differences in education and income between NUTS 2 regions. Is it higher or lower than what you expected?"
      ]
    },
    {
      "cell_type": "code",
      "execution_count": null,
      "metadata": {
        "colab": {
          "base_uri": "https://localhost:8080/",
          "height": 238
        },
        "id": "2AdGb98BE1Yo",
        "outputId": "e29d044a-bf65-4bf7-f225-bfd273429127"
      },
      "outputs": [],
      "source": []
    },
    {
      "cell_type": "markdown",
      "metadata": {
        "id": "SXC8wfNGMWSv"
      },
      "source": [
        "## Data Visualization"
      ]
    },
    {
      "cell_type": "markdown",
      "metadata": {
        "id": "sYYnGL5GMWSv"
      },
      "source": [
        "1. We will ask you to plot two maps of social connections of (1) a country (of your choice) and (2) a NUTS 2 region (of your choice) to all other NUTS 2 regions. Remember the French islands should be dropped (these islands are far away from continental Europe and will therefore make the maps harder to visualize). We have provided the majority of the code to perform the mapping and we will explain how the aggregation of SCI to the country level is performed.\n",
        "\n",
        "  * For the chosen country, aggregate the SCI to produce country to NUTS 2 region measures. Scaled SCI can be aggregated correctly using population shares following [SCI documentation](https://data.humdata.org/dataset/social-connectedness-index). For countries $i, j$ with regions $\\{r_i\\}, \\{r_j\\}$, aggregate SCI is given by:\n",
        "\n",
        "  $$SCI_{i,j} = \\sum_{\\{r_i\\}}\\sum_{\\{r_j\\}} PopShare_{r_i} \\times PopShare_{r_j} \\times SCI_{r_i, r_j}$$\n",
        "\n",
        "  where $PopShare_{r_i}$ is the share of country $i$'s population in region $r_i$.\n",
        "\n",
        "  * Merge the aggregated SCI data with the GeoDataFrame (keep only NUTS 2 regions) for the applicable geographies.\n",
        "  * Construct the bins for the map legend by first selecting a baseline SCI cutoff (e.g. 20th percentile of the **total data** that you are working with). Then calculate the subsequent cutoffs as $2\\times$, $3\\times$, $5\\times$, $10\\times$, $25\\times$, $100\\times, 1000\\times$ that of the baseline cutoff. Feel free to use another legend system as long as there is justification.\n",
        "  * Map directly using the GeoPandas library, or feel free to explore interactive maps in Plotly.\n",
        "\n",
        "You only need to fill in the correct DataFrames, then call on the mapping function for your two plots. Feel free to make adjustments as needed."
      ]
    },
    {
      "cell_type": "code",
      "execution_count": null,
      "metadata": {
        "colab": {
          "base_uri": "https://localhost:8080/",
          "height": 206
        },
        "id": "Km8jsk1RkOpY",
        "outputId": "81a2f794-9f07-4b56-f764-1619cd8a3f6c"
      },
      "outputs": [],
      "source": [
        "# Create population shares for country data\n",
        "ctry_pop_share = (\n",
        "    # DataFrame with 2019 data\n",
        "    .assign(country = lambda df: df.index.str[:2])\n",
        "    .assign(country_pop = lambda df: df.groupby('country')['population'].transform('sum'))\n",
        "    .assign(country_pop_share = lambda df: df['population'] / df['country_pop'])\n",
        ")\n",
        "\n",
        "# Merge population shares to calculate aggregated SCI\n",
        "nuts2country = (\n",
        "    pd.merge(\n",
        "        # DataFrame with pairs of NUTS 2 Regions[['user_loc', 'fr_loc', 'scaled_sci']],\n",
        "        ctry_pop_share,\n",
        "        left_on = 'user_loc',\n",
        "        right_index = True,\n",
        "        how = 'inner'\n",
        "    )\n",
        "    .assign(sci_agg = lambda df: df['country_pop_share'] * df['scaled_sci'])\n",
        "    .groupby(['country', 'fr_loc'])['sci_agg'].sum()\n",
        "    .reset_index()\n",
        ")"
      ]
    },
    {
      "cell_type": "code",
      "execution_count": null,
      "metadata": {},
      "outputs": [],
      "source": [
        "def map_sci_nuts2(df, geo_id, region, map_var, baseline=0.2):\n",
        "    \"\"\"\n",
        "    Plot map of SCI between specified region and all NUTS 2 regions.\n",
        "\n",
        "    Parameters\n",
        "    ----------\n",
        "    df : DataFrame\n",
        "      Dataframe aggregated to the correct level for SCI\n",
        "    geo_id : string\n",
        "      Name of variable which is the geography who's SCI is being plotted\n",
        "    region : string\n",
        "      Name of region which is being plotted (e.g. 'FR' or 'BÊ35')\n",
        "    map_var : string\n",
        "      Name of the variable being mapped (e.g. sci)\n",
        "    baseline : float between 0 and 1\n",
        "      Default for smallest bin is 20th percentile of data\n",
        "\n",
        "    Returns\n",
        "    -------\n",
        "    Nothing. Plots the map directly.\n",
        "    \"\"\"\n",
        "    # Calculate bins based on total data\n",
        "    map_bins = df[map_var].quantile(baseline) * np.array([0, 1, 2, 3, 5, 10, 25, 100, 1000, 10e9])\n",
        "\n",
        "    map_bin_labels = ['< 1x (Overall 20th percentile)', '1-2x', '2-3x', '3-5x',\n",
        "                      '5-10x', '10-25x', '25-100x', '100x-1000x', '>= 1000x']\n",
        "\n",
        "    df['sci_bins'] = pd.cut(df[map_var], bins=map_bins, labels=map_bin_labels, include_lowest=True)\n",
        "\n",
        "    # Merge SCI data to shape files for NUTS 2\n",
        "    merge_shape = (\n",
        "        shapefile[shapefile['LEVL_CODE'] == 2]\n",
        "        .merge(\n",
        "            df[df[geo_id] == region],\n",
        "            left_on = \"NUTS_ID\",\n",
        "            right_on = \"fr_loc\",\n",
        "            how = 'inner'\n",
        "        )\n",
        "    )\n",
        "\n",
        "    # Plot Map\n",
        "    legend_kwds = {\n",
        "        'loc': 'upper left', # Position of legend\n",
        "        'bbox_to_anchor': (0, 1)\n",
        "    }\n",
        "\n",
        "    fig, ax = plt.subplots(figsize=(10, 10))\n",
        "    merge_shape.plot(column='sci_bins', ax=ax, cmap='PuBu', legend=True, legend_kwds = legend_kwds, linewidth=1, edgecolor='0.6')\n",
        "    ax.set_title(\"Scaled SCI Between \" + region + \" and All NUTS 2 Regions\")\n",
        "    ax.set_axis_off()\n",
        "    plt.show()"
      ]
    },
    {
      "cell_type": "code",
      "execution_count": 2,
      "metadata": {},
      "outputs": [],
      "source": [
        "# Plot country map\n",
        "\n",
        "# Plot NUTS 2 to NUTS 2 region map"
      ]
    },
    {
      "cell_type": "markdown",
      "metadata": {
        "id": "5_HNgLCWu04X"
      },
      "source": [
        "2. Show the relationship between log SCI and log distance in a figure. Highlight the points of at least one user geography (country or NUTS 2). Fit a curve to the data and plot it along with the scatterplot."
      ]
    },
    {
      "cell_type": "code",
      "execution_count": null,
      "metadata": {
        "colab": {
          "base_uri": "https://localhost:8080/",
          "height": 472
        },
        "id": "XavdL98zmzR4",
        "outputId": "63b24951-529e-42a0-f27c-fa9a9f164e67"
      },
      "outputs": [],
      "source": []
    },
    {
      "cell_type": "markdown",
      "metadata": {
        "id": "qBObMHkKvRoG"
      },
      "source": [
        "3. Visualize the distributions of log SCI by income bin (e.g. low, medium, high) of the user region. Comment."
      ]
    },
    {
      "cell_type": "code",
      "execution_count": null,
      "metadata": {
        "colab": {
          "base_uri": "https://localhost:8080/",
          "height": 564
        },
        "id": "EbrKuC1IwoPW",
        "outputId": "b6d58629-0fed-4d3a-b0bf-1ec41f745276"
      },
      "outputs": [],
      "source": []
    },
    {
      "cell_type": "markdown",
      "metadata": {
        "id": "rP9aGapzLp_R"
      },
      "source": [
        "***Bonus:*** Explore the data and feel free to visualize whatever you would like. Make sure you understand the variables and compute summary statistics."
      ]
    },
    {
      "cell_type": "markdown",
      "metadata": {
        "id": "gCuM9ND8MWSv"
      },
      "source": [
        "# Submission ⭐\n",
        "\n",
        "Congratulations you finished the module! We will handle all exercise submissions on GitHub Classroom. Please push your changes to your team repository folder on GitHub Classroom."
      ]
    }
  ],
  "metadata": {
    "colab": {
      "provenance": []
    },
    "kernelspec": {
      "display_name": "base",
      "language": "python",
      "name": "python3"
    },
    "language_info": {
      "codemirror_mode": {
        "name": "ipython",
        "version": 3
      },
      "file_extension": ".py",
      "mimetype": "text/x-python",
      "name": "python",
      "nbconvert_exporter": "python",
      "pygments_lexer": "ipython3",
      "version": "3.12.4"
    }
  },
  "nbformat": 4,
  "nbformat_minor": 0
}
